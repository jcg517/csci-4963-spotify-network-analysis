{
 "cells": [
  {
   "cell_type": "code",
   "execution_count": 3,
   "metadata": {},
   "outputs": [],
   "source": [
    "#\n",
    "#   SPOTIFY THING - Drew Schiller & Jesse Gabriel\n",
    "#\n",
    "\n",
    "import networkx as nx\n",
    "import csv\n",
    "\n",
    "# Paths for node and edge dataset files\n",
    "NODES_PATH = './archive/nodes.csv'\n",
    "EDGES_PATH = './archive/edges.csv'"
   ]
  },
  {
   "cell_type": "code",
   "execution_count": 15,
   "metadata": {},
   "outputs": [
    {
     "name": "stdout",
     "output_type": "stream",
     "text": [
      "Number of edges: 186676\n"
     ]
    }
   ],
   "source": [
    "graph = nx.Graph()\n",
    "artist_names = dict()\n",
    "\n",
    "with open(NODES_PATH, 'r', encoding='utf-8') as file:\n",
    "    file_data = csv.reader(file)\n",
    "    i = 0\n",
    "    for row in file_data:\n",
    "        if i == 0:\n",
    "            i += 1\n",
    "            continue\n",
    "        uri = row[0]\n",
    "        name = row[1]\n",
    "        popularity = int(row[3])\n",
    "\n",
    "        if popularity > 25: # arbitrary\n",
    "            graph.add_node(uri)\n",
    "            artist_names[uri] = name\n",
    "\n",
    "with open(EDGES_PATH, 'r') as file:\n",
    "    file_data = csv.reader(file)\n",
    "    i = 0\n",
    "    for row in file_data:\n",
    "        if i == 0:\n",
    "            i += 1\n",
    "            continue\n",
    "        uri_0 = row[0]\n",
    "        uri_1 = row[1]\n",
    "\n",
    "        if graph.has_node(uri_0) and graph.has_node(uri_1):\n",
    "            graph.add_edge(uri_0, uri_1)\n",
    "\n",
    "print(\"Number of nodes:\", graph.number_of_nodes())\n",
    "print(\"Number of edges:\", graph.number_of_edges())"
   ]
  },
  {
   "cell_type": "code",
   "execution_count": null,
   "metadata": {},
   "outputs": [],
   "source": []
  }
 ],
 "metadata": {
  "kernelspec": {
   "display_name": "venv",
   "language": "python",
   "name": "python3"
  },
  "language_info": {
   "codemirror_mode": {
    "name": "ipython",
    "version": 3
   },
   "file_extension": ".py",
   "mimetype": "text/x-python",
   "name": "python",
   "nbconvert_exporter": "python",
   "pygments_lexer": "ipython3",
   "version": "3.11.0"
  }
 },
 "nbformat": 4,
 "nbformat_minor": 2
}
