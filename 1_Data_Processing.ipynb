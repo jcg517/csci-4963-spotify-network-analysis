{
 "cells": [
  {
   "cell_type": "code",
   "execution_count": 8,
   "metadata": {},
   "outputs": [],
   "source": [
    "import networkx as nx\n",
    "import csv\n",
    "import numpy as np\n",
    "import matplotlib.pyplot as plt\n",
    "import random\n",
    "import operator\n",
    "from pyvis.network import Network\n",
    "from tqdm import tqdm\n",
    "import pickle\n"
   ]
  },
  {
   "cell_type": "markdown",
   "metadata": {},
   "source": [
    "# 1. Process The Data\n",
    "- In this module, we will read in the graph data, and apply several techniques to clean the data so that it is more relevant for later analysis.\n",
    "- Once this basic processing is done, we will build-upon/enhance the information structure of our graph using the spotify api to gather tracks that can be used as edges. We will also apply some different possible weighting attributes to edges.\n",
    "- In the end, 2 Graph objects will be saved and serialized. One basic graph of artist to artist collaboration, and another: temporal, multigraph where each edge represents a specific track of collaboration.\n"
   ]
  },
  {
   "cell_type": "code",
   "execution_count": 9,
   "metadata": {},
   "outputs": [],
   "source": [
    "# Paths for node and edge dataset files\n",
    "NODES_PATH = './data/nodes.csv'\n",
    "EDGES_PATH = './data/edges.csv'"
   ]
  },
  {
   "cell_type": "markdown",
   "metadata": {},
   "source": [
    "## Reading in the Data\n",
    "Here, the raw csv data will be read in, producing the first version of our basic graph and a dictionarty of attributes. Only the artists that pass a certain popularity threshhold will be added."
   ]
  },
  {
   "cell_type": "code",
   "execution_count": 10,
   "metadata": {},
   "outputs": [
    {
     "name": "stdout",
     "output_type": "stream",
     "text": [
      "Number of nodes: 84250\n",
      "Number of edges: 220381\n"
     ]
    }
   ],
   "source": [
    "import ast\n",
    "\n",
    "MIN_POPULARITY = 15\n",
    "\n",
    "G = nx.Graph()\n",
    "artist_info = dict()\n",
    "\n",
    "with open(NODES_PATH, 'r', encoding='utf-8') as file:\n",
    "    file_data = csv.reader(file)\n",
    "    i = 0\n",
    "    for row in file_data:\n",
    "        if i == 0:\n",
    "            i += 1\n",
    "            continue\n",
    "        uri = row[0]\n",
    "        name = row[1]\n",
    "        popularity = int(row[3])\n",
    "        genres = ast.literal_eval(row[4])\n",
    "\n",
    "        if popularity > MIN_POPULARITY:\n",
    "            G.add_node(uri)\n",
    "            artist_info[uri] = (name, popularity, genres)\n",
    "            \n",
    "\n",
    "with open(EDGES_PATH, 'r') as file:\n",
    "    file_data = csv.reader(file)\n",
    "    i = 0\n",
    "    for row in file_data:\n",
    "        if i == 0:\n",
    "            i += 1\n",
    "            continue\n",
    "        uri_0 = row[0]\n",
    "        uri_1 = row[1]\n",
    "\n",
    "        if G.has_node(uri_0) and G.has_node(uri_1):\n",
    "            G.add_edge(uri_0, uri_1)\n",
    "\n",
    "print(\"Number of nodes:\", G.number_of_nodes())\n",
    "print(\"Number of edges:\", G.number_of_edges())"
   ]
  },
  {
   "cell_type": "markdown",
   "metadata": {},
   "source": [
    "## Cleaning graph by component size and connectivity\n",
    "First we remove trivial, isolated verticies from the graph:"
   ]
  },
  {
   "cell_type": "code",
   "execution_count": 12,
   "metadata": {},
   "outputs": [
    {
     "name": "stdout",
     "output_type": "stream",
     "text": [
      "Removed 2255 trival verticies` from Graph\n"
     ]
    }
   ],
   "source": [
    "# Remove trivial Components\n",
    "trival_verticies = list(nx.isolates(G))\n",
    "G.remove_nodes_from(trival_verticies)\n",
    "\n",
    "print(f\"Removed {len(trival_verticies)} trival verticies` from Graph\")"
   ]
  },
  {
   "cell_type": "markdown",
   "metadata": {},
   "source": [
    "Analyzing size distribution of the connected components:"
   ]
  },
  {
   "cell_type": "code",
   "execution_count": 13,
   "metadata": {},
   "outputs": [
    {
     "data": {
      "image/png": "[encoded data removed]",
      "text/plain": [
       "<Figure size 640x480 with 1 Axes>"
      ]
     },
     "metadata": {},
     "output_type": "display_data"
    },
    {
     "name": "stdout",
     "output_type": "stream",
     "text": [
      "One MASSIVE component of size: 79851\n",
      "Takes up 97.39% of all verticies in the Graph\n"
     ]
    }
   ],
   "source": [
    "# Look at compo distribution and clip to the graph to only be the largest component\n",
    "component_sizes = sorted([len(cc) for cc in nx.connected_components(G)])\n",
    "\n",
    "fig = plt.figure()\n",
    "ax = fig.add_subplot(111)\n",
    "ax.plot(component_sizes)\n",
    "ax.set_yscale('log')\n",
    "plt.title(\"Size Distribution of Components\")\n",
    "ax.set_xlabel(\"Number of Components\")\n",
    "ax.set_ylabel(\"Number of Artists\")\n",
    "plt.show()\n",
    "\n",
    "print(f\"One MASSIVE component of size: {component_sizes[-1]}\")\n",
    "print(f\"Takes up {(component_sizes[-1] / G.number_of_nodes())*100:.2f}% of all verticies in the Graph\")"
   ]
  },
  {
   "cell_type": "markdown",
   "metadata": {},
   "source": [
    "Given, the massive size of this one component, we decided to only consider vertices within this component for simpicity and relevancy in later analyses. Thus, we remove all other components, making the graph now fully connected."
   ]
  },
  {
   "cell_type": "code",
   "execution_count": 14,
   "metadata": {},
   "outputs": [
    {
     "name": "stdout",
     "output_type": "stream",
     "text": [
      "Removed 2144 vertices, not part of the massive component.\n"
     ]
    }
   ],
   "source": [
    "# Clip the graph to only consider largest component\n",
    "print(f\"Removed {sum(component_sizes[:-1])} vertices, not part of the massive component.\")\n",
    "G = G.subgraph(sorted(nx.connected_components(G))[0])"
   ]
  },
  {
   "cell_type": "markdown",
   "metadata": {},
   "source": [
    "## Filtering by Genre Metadata"
   ]
  },
  {
   "cell_type": "code",
   "execution_count": 15,
   "metadata": {},
   "outputs": [],
   "source": [
    "# Do some filtering by genre"
   ]
  },
  {
   "cell_type": "markdown",
   "metadata": {},
   "source": [
    "## Computing the multigraph"
   ]
  },
  {
   "cell_type": "markdown",
   "metadata": {},
   "source": [
    "## Calculating and adding various edge weights"
   ]
  },
  {
   "cell_type": "markdown",
   "metadata": {},
   "source": [
    "## Outputting some basic stats about our network"
   ]
  },
  {
   "cell_type": "code",
   "execution_count": 16,
   "metadata": {},
   "outputs": [
    {
     "name": "stdout",
     "output_type": "stream",
     "text": [
      "Number of nodes: 79851\n",
      "Number of edges: 218961\n",
      "Average Degree: 5\n"
     ]
    }
   ],
   "source": [
    "# Basic Graph Stats we will be working with\n",
    "\n",
    "avg_degree = round(np.mean([degree for (_, degree) in G.degree()]))\n",
    "\n",
    "print(\"Number of nodes:\", G.number_of_nodes())\n",
    "print(\"Number of edges:\", G.number_of_edges())\n",
    "print(\"Average Degree:\", avg_degree)"
   ]
  },
  {
   "cell_type": "markdown",
   "metadata": {},
   "source": [
    "## Saving the objects"
   ]
  },
  {
   "cell_type": "code",
   "execution_count": 17,
   "metadata": {},
   "outputs": [],
   "source": [
    "# Save Graph\n",
    "with open(\"./saved_objects/main_graph.pkl\", \"wb\") as f:\n",
    "    pickle.dump(G, f)\n",
    "with open(\"./saved_objects/artist_info.pkl\", \"wb\") as f:\n",
    "    pickle.dump(artist_info, f)"
   ]
  }
 ],
 "metadata": {
  "kernelspec": {
   "display_name": "venv",
   "language": "python",
   "name": "python3"
  },
  "language_info": {
   "codemirror_mode": {
    "name": "ipython",
    "version": 3
   },
   "file_extension": ".py",
   "mimetype": "text/x-python",
   "name": "python",
   "nbconvert_exporter": "python",
   "pygments_lexer": "ipython3",
   "version": "3.11.0"
  }
 },
 "nbformat": 4,
 "nbformat_minor": 2
}
