{
 "cells": [
  {
   "cell_type": "code",
   "execution_count": 4,
   "metadata": {},
   "outputs": [],
   "source": [
    "import networkx as nx\n",
    "import numpy as np\n",
    "import matplotlib.pyplot as plt\n",
    "from pyvis.network import Network\n",
    "from tqdm import tqdm\n",
    "import pickle\n",
    "import spotipy"
   ]
  },
  {
   "cell_type": "code",
   "execution_count": 5,
   "metadata": {},
   "outputs": [],
   "source": [
    "# Load in Graph and Artist Data\n",
    "with open(\"./saved_objects/main_graph.pkl\", \"rb\") as f:\n",
    "    G = pickle.load(f)\n",
    "with open(\"./saved_objects/artist_info.pkl\", \"rb\") as f:\n",
    "    artist_info = pickle.load(f)\n",
    "\n",
    "SPOTIPY_CLIENT_ID=\"857c96f8d73b4a99a2a32f1cf760d41d\"\n",
    "SPOTIPY_CLIENT_SECRET=\"b774f0e290084f2e9928709291a11ef7\""
   ]
  },
  {
   "cell_type": "code",
   "execution_count": 6,
   "metadata": {},
   "outputs": [
    {
     "name": "stdout",
     "output_type": "stream",
     "text": [
      "Shortest path from The Rolling Stones to Bruce Springsteen\n",
      "The Rolling Stones, Jimmy Page, The Killers, Jacques Lu Cont - Scarlet - The Killers & Jacques Lu Cont Remix\n",
      "The Killers, Bruce Springsteen - Dustland (feat. Bruce Springsteen)\n"
     ]
    }
   ],
   "source": [
    "auth = spotipy.SpotifyClientCredentials(client_id=SPOTIPY_CLIENT_ID, client_secret=SPOTIPY_CLIENT_SECRET)\n",
    "sp = spotipy.Spotify(client_credentials_manager=auth)\n",
    "artist_1 = \"22bE4uQ6baNwSHPVcDxLCe\"\n",
    "artist_2 = \"3eqjTLE0HfPfh78zjh6TqT\"\n",
    "path = nx.shortest_path(G, artist_1, artist_2)\n",
    "print(f\"Shortest path from {artist_info[artist_1][0]} to {artist_info[artist_2][0]}\")\n",
    "for i in range(len(path)-1):\n",
    "    #print(artist_info[path[i]][0] + \" -> \" + artist_info[path[i+1]][0])\n",
    "\n",
    "    # Get tracks\n",
    "    results = sp.search(q=f\"{artist_info[path[i]][0]} {artist_info[path[i+1]][0]}\")\n",
    "    tracks = results['tracks']['items']\n",
    "\n",
    "    # Print best track and its artists\n",
    "    top_track = tracks[0]\n",
    "    artists = ', '.join([artist['name'] for artist in top_track['artists']])\n",
    "    track_name = top_track['name']\n",
    "    print(artists + \" - \" + track_name)\n"
   ]
  }
 ],
 "metadata": {
  "kernelspec": {
   "display_name": "venv",
   "language": "python",
   "name": "python3"
  },
  "language_info": {
   "codemirror_mode": {
    "name": "ipython",
    "version": 3
   },
   "file_extension": ".py",
   "mimetype": "text/x-python",
   "name": "python",
   "nbconvert_exporter": "python",
   "pygments_lexer": "ipython3",
   "version": "3.11.5"
  }
 },
 "nbformat": 4,
 "nbformat_minor": 2
}
