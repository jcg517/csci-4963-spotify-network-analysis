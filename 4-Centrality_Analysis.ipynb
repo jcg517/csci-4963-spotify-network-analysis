{
 "cells": [
  {
   "cell_type": "code",
   "execution_count": 2,
   "metadata": {},
   "outputs": [],
   "source": [
    "import networkx as nx\n",
    "import numpy as np\n",
    "import matplotlib.pyplot as plt\n",
    "from pyvis.network import Network\n",
    "from tqdm import tqdm\n",
    "import pickle\n"
   ]
  },
  {
   "cell_type": "code",
   "execution_count": 4,
   "metadata": {},
   "outputs": [],
   "source": [
    "# Load in Graph and Artist Data\n",
    "with open(\"./saved_objects/main_graph.pkl\", \"rb\") as f:\n",
    "    G = pickle.load(f)\n",
    "with open(\"./saved_objects/artist_info.pkl\", \"rb\") as f:\n",
    "    artist_info = pickle.load(f)\n",
    "\n",
    " # Load previous community detection results   \n",
    "with open(\"./saved_objects/community_subgraphs.pkl\", \"rb\") as f:\n",
    "    comm_subgraphs = pickle.load(f)\n",
    "with open(\"./saved_objects/genres_by_community.pkl\", \"rb\") as f:\n",
    "    genres_by_comm= pickle.load(f)"
   ]
  },
  {
   "cell_type": "markdown",
   "metadata": {},
   "source": [
    "# 4. Centrality Analysis"
   ]
  },
  {
   "cell_type": "markdown",
   "metadata": {},
   "source": [
    "## _Global_"
   ]
  },
  {
   "cell_type": "code",
   "execution_count": 13,
   "metadata": {},
   "outputs": [],
   "source": [
    "\n",
    "degree_centrality = sorted(nx.degree_centrality(G), key=lambda x: x[1], reverse=True)\n",
    "eigenvector_centrality = sorted(nx.eigenvector_centrality(G), key=lambda x: x[1], reverse=True)\n",
    "pagerank_centrality = sorted(nx.pagerank(G, alpha=0.85), key=lambda x: x[1], reverse=True)\n",
    "\n",
    "# Too Slow!\n",
    "# closeness_centrality = nx.closeness_centrality(G)\n",
    "# betweenness_centrality = nx.betweenness_centrality(G)"
   ]
  },
  {
   "cell_type": "markdown",
   "metadata": {},
   "source": [
    "## _Local by subgraph_"
   ]
  },
  {
   "cell_type": "code",
   "execution_count": 25,
   "metadata": {},
   "outputs": [],
   "source": [
    "# degree_comms = sorted(\n",
    "#     {idx: nx.degree_centrality(g) for idx, g in enumerate(comm_subgraphs)},\n",
    "#     key=lambda k, v: np.mean(v, reverse=True),\n",
    "# )\n",
    "# closeness_comms = sorted(\n",
    "#     {idx: nx.closeness_centrality(g) for idx, g in enumerate(comm_subgraphs)},\n",
    "#     key=lambda k, v: np.mean(v, reverse=True),\n",
    "# )\n",
    "betweenness_comms = {idx: nx.betweenness_centrality(g) for idx, g in enumerate(comm_subgraphs)}\n",
    "eigenvector_comms = {idx: nx.eigenvector_centrality_numpy(g) for idx, g in enumerate(comm_subgraphs)}\n",
    "katz_comms = {idx: nx.katz_centrality_numpy(g) for idx, g in enumerate(comm_subgraphs)}\n",
    "# pagerank_comms = sorted(\n",
    "#     {idx: nx.pagerank(g, alpha=0.85) for idx, g in enumerate(comm_subgraphs)},\n",
    "#     key=lambda x: np.mean(x[1], reverse=True),\n",
    "# )"
   ]
  },
  {
   "cell_type": "code",
   "execution_count": 49,
   "metadata": {},
   "outputs": [],
   "source": [
    "lambda_1 = 1.0\n",
    "lambda_2 = 1.0\n",
    "lambda_3 = 1.0\n",
    "total_centrality = {\n",
    "    idx: {\n",
    "        node: lambda_1 * betweenness_comms[idx][node]\n",
    "        + lambda_2 * eigenvector_comms[idx][node]\n",
    "        + lambda_3 * katz_comms[idx][node]\n",
    "        for node in g.nodes()\n",
    "    }\n",
    "    for idx, g in enumerate(comm_subgraphs)\n",
    "}"
   ]
  },
  {
   "cell_type": "code",
   "execution_count": 54,
   "metadata": {},
   "outputs": [
    {
     "name": "stdout",
     "output_type": "stream",
     "text": [
      "Wiz Khalifa\n",
      "Chris Brown\n",
      "Lil Wayne\n",
      "Ty Dolla $ign\n",
      "Gucci Mane\n",
      "Snoop Dogg\n",
      "T.I.\n",
      "French Montana\n",
      "Future\n",
      "Tyga\n",
      "Nas\n",
      "Lil Durk\n",
      "T-Pain\n",
      "Meek Mill\n",
      "Waka Flocka Flame\n",
      "Rick Ross\n",
      "Young Thug\n",
      "Nelly\n",
      "Yo Gotti\n",
      "Big Sean\n",
      "Pusha T\n",
      "Kanye West\n",
      "DJ Khaled\n",
      "Kehlani\n",
      "Diplo\n"
     ]
    }
   ],
   "source": [
    "# Print top artists in a subgraph by compounded centrality\n",
    "subgraph = 0\n",
    "top = sorted([k for k in comm_subgraphs[subgraph].nodes()], key=lambda x: total_centrality[subgraph][x], reverse=True)[0:25]\n",
    "for t in top:\n",
    "    print(artist_info[t][0])"
   ]
  },
  {
   "cell_type": "code",
   "execution_count": 64,
   "metadata": {},
   "outputs": [
    {
     "name": "stdout",
     "output_type": "stream",
     "text": [
      "1\n",
      "1\n",
      "1\n",
      "1\n",
      "1\n",
      "1\n",
      "1\n",
      "1\n"
     ]
    },
    {
     "ename": "KeyboardInterrupt",
     "evalue": "",
     "output_type": "error",
     "traceback": [
      "\u001b[1;31m---------------------------------------------------------------------------\u001b[0m",
      "\u001b[1;31mKeyboardInterrupt\u001b[0m                         Traceback (most recent call last)",
      "Cell \u001b[1;32mIn[64], line 15\u001b[0m\n\u001b[0;32m     12\u001b[0m num_rem_EC \u001b[38;5;241m=\u001b[39m num_to_remove_centrality(subgraph, \u001b[38;5;28msorted\u001b[39m([k \u001b[38;5;28;01mfor\u001b[39;00m k \u001b[38;5;129;01min\u001b[39;00m subgraph\u001b[38;5;241m.\u001b[39mnodes()], key\u001b[38;5;241m=\u001b[39m\u001b[38;5;28;01mlambda\u001b[39;00m x: eigenvector_comms[idx][x], reverse\u001b[38;5;241m=\u001b[39m\u001b[38;5;28;01mTrue\u001b[39;00m))\n\u001b[0;32m     13\u001b[0m num_rem_KC \u001b[38;5;241m=\u001b[39m num_to_remove_centrality(subgraph, \u001b[38;5;28msorted\u001b[39m([k \u001b[38;5;28;01mfor\u001b[39;00m k \u001b[38;5;129;01min\u001b[39;00m subgraph\u001b[38;5;241m.\u001b[39mnodes()], key\u001b[38;5;241m=\u001b[39m\u001b[38;5;28;01mlambda\u001b[39;00m x: katz_comms[idx][x], reverse\u001b[38;5;241m=\u001b[39m\u001b[38;5;28;01mTrue\u001b[39;00m))\n\u001b[1;32m---> 15\u001b[0m \u001b[38;5;28mprint\u001b[39m(\u001b[43mnum_to_remove_centrality\u001b[49m\u001b[43m(\u001b[49m\u001b[43mG\u001b[49m\u001b[43m,\u001b[49m\u001b[43m \u001b[49m\u001b[38;5;28;43msorted\u001b[39;49m\u001b[43m(\u001b[49m\u001b[43m[\u001b[49m\u001b[43mk\u001b[49m\u001b[43m \u001b[49m\u001b[38;5;28;43;01mfor\u001b[39;49;00m\u001b[43m \u001b[49m\u001b[43mk\u001b[49m\u001b[43m \u001b[49m\u001b[38;5;129;43;01min\u001b[39;49;00m\u001b[43m \u001b[49m\u001b[43msubgraph\u001b[49m\u001b[38;5;241;43m.\u001b[39;49m\u001b[43mnodes\u001b[49m\u001b[43m(\u001b[49m\u001b[43m)\u001b[49m\u001b[43m]\u001b[49m\u001b[43m,\u001b[49m\u001b[43m \u001b[49m\u001b[43mkey\u001b[49m\u001b[38;5;241;43m=\u001b[39;49m\u001b[38;5;28;43;01mlambda\u001b[39;49;00m\u001b[43m \u001b[49m\u001b[43mx\u001b[49m\u001b[43m:\u001b[49m\u001b[43m \u001b[49m\u001b[43mbetweenness_comms\u001b[49m\u001b[43m[\u001b[49m\u001b[43midx\u001b[49m\u001b[43m]\u001b[49m\u001b[43m[\u001b[49m\u001b[43mx\u001b[49m\u001b[43m]\u001b[49m\u001b[43m,\u001b[49m\u001b[43m \u001b[49m\u001b[43mreverse\u001b[49m\u001b[38;5;241;43m=\u001b[39;49m\u001b[38;5;28;43;01mTrue\u001b[39;49;00m\u001b[43m)\u001b[49m\u001b[43m)\u001b[49m)\n",
      "Cell \u001b[1;32mIn[64], line 2\u001b[0m, in \u001b[0;36mnum_to_remove_centrality\u001b[1;34m(G, sorted_nodes)\u001b[0m\n\u001b[0;32m      1\u001b[0m \u001b[38;5;28;01mdef\u001b[39;00m \u001b[38;5;21mnum_to_remove_centrality\u001b[39m(G, sorted_nodes):\n\u001b[1;32m----> 2\u001b[0m     G1 \u001b[38;5;241m=\u001b[39m \u001b[43mG\u001b[49m\u001b[38;5;241;43m.\u001b[39;49m\u001b[43mcopy\u001b[49m\u001b[43m(\u001b[49m\u001b[43m)\u001b[49m\n\u001b[0;32m      3\u001b[0m     count \u001b[38;5;241m=\u001b[39m \u001b[38;5;241m0\u001b[39m\n\u001b[0;32m      4\u001b[0m     \u001b[38;5;28;01mwhile\u001b[39;00m nx\u001b[38;5;241m.\u001b[39mnumber_connected_components(G1) \u001b[38;5;241m==\u001b[39m \u001b[38;5;241m1\u001b[39m:\n",
      "File \u001b[1;32mc:\\Users\\jesse\\My Drive\\[01] RPI\\[03] SPRING 2024\\GRAPH MINING - CSCI 4963\\Project\\venv\\Lib\\site-packages\\networkx\\classes\\graph.py:1643\u001b[0m, in \u001b[0;36mGraph.copy\u001b[1;34m(self, as_view)\u001b[0m\n\u001b[0;32m   1641\u001b[0m G\u001b[38;5;241m.\u001b[39mgraph\u001b[38;5;241m.\u001b[39mupdate(\u001b[38;5;28mself\u001b[39m\u001b[38;5;241m.\u001b[39mgraph)\n\u001b[0;32m   1642\u001b[0m G\u001b[38;5;241m.\u001b[39madd_nodes_from((n, d\u001b[38;5;241m.\u001b[39mcopy()) \u001b[38;5;28;01mfor\u001b[39;00m n, d \u001b[38;5;129;01min\u001b[39;00m \u001b[38;5;28mself\u001b[39m\u001b[38;5;241m.\u001b[39m_node\u001b[38;5;241m.\u001b[39mitems())\n\u001b[1;32m-> 1643\u001b[0m \u001b[43mG\u001b[49m\u001b[38;5;241;43m.\u001b[39;49m\u001b[43madd_edges_from\u001b[49m\u001b[43m(\u001b[49m\n\u001b[0;32m   1644\u001b[0m \u001b[43m    \u001b[49m\u001b[43m(\u001b[49m\u001b[43mu\u001b[49m\u001b[43m,\u001b[49m\u001b[43m \u001b[49m\u001b[43mv\u001b[49m\u001b[43m,\u001b[49m\u001b[43m \u001b[49m\u001b[43mdatadict\u001b[49m\u001b[38;5;241;43m.\u001b[39;49m\u001b[43mcopy\u001b[49m\u001b[43m(\u001b[49m\u001b[43m)\u001b[49m\u001b[43m)\u001b[49m\n\u001b[0;32m   1645\u001b[0m \u001b[43m    \u001b[49m\u001b[38;5;28;43;01mfor\u001b[39;49;00m\u001b[43m \u001b[49m\u001b[43mu\u001b[49m\u001b[43m,\u001b[49m\u001b[43m \u001b[49m\u001b[43mnbrs\u001b[49m\u001b[43m \u001b[49m\u001b[38;5;129;43;01min\u001b[39;49;00m\u001b[43m \u001b[49m\u001b[38;5;28;43mself\u001b[39;49m\u001b[38;5;241;43m.\u001b[39;49m\u001b[43m_adj\u001b[49m\u001b[38;5;241;43m.\u001b[39;49m\u001b[43mitems\u001b[49m\u001b[43m(\u001b[49m\u001b[43m)\u001b[49m\n\u001b[0;32m   1646\u001b[0m \u001b[43m    \u001b[49m\u001b[38;5;28;43;01mfor\u001b[39;49;00m\u001b[43m \u001b[49m\u001b[43mv\u001b[49m\u001b[43m,\u001b[49m\u001b[43m \u001b[49m\u001b[43mdatadict\u001b[49m\u001b[43m \u001b[49m\u001b[38;5;129;43;01min\u001b[39;49;00m\u001b[43m \u001b[49m\u001b[43mnbrs\u001b[49m\u001b[38;5;241;43m.\u001b[39;49m\u001b[43mitems\u001b[49m\u001b[43m(\u001b[49m\u001b[43m)\u001b[49m\n\u001b[0;32m   1647\u001b[0m \u001b[43m\u001b[49m\u001b[43m)\u001b[49m\n\u001b[0;32m   1648\u001b[0m \u001b[38;5;28;01mreturn\u001b[39;00m G\n",
      "File \u001b[1;32mc:\\Users\\jesse\\My Drive\\[01] RPI\\[03] SPRING 2024\\GRAPH MINING - CSCI 4963\\Project\\venv\\Lib\\site-packages\\networkx\\classes\\graph.py:1035\u001b[0m, in \u001b[0;36mGraph.add_edges_from\u001b[1;34m(self, ebunch_to_add, **attr)\u001b[0m\n\u001b[0;32m   1033\u001b[0m     \u001b[38;5;28mself\u001b[39m\u001b[38;5;241m.\u001b[39m_adj[v] \u001b[38;5;241m=\u001b[39m \u001b[38;5;28mself\u001b[39m\u001b[38;5;241m.\u001b[39madjlist_inner_dict_factory()\n\u001b[0;32m   1034\u001b[0m     \u001b[38;5;28mself\u001b[39m\u001b[38;5;241m.\u001b[39m_node[v] \u001b[38;5;241m=\u001b[39m \u001b[38;5;28mself\u001b[39m\u001b[38;5;241m.\u001b[39mnode_attr_dict_factory()\n\u001b[1;32m-> 1035\u001b[0m datadict \u001b[38;5;241m=\u001b[39m \u001b[38;5;28mself\u001b[39m\u001b[38;5;241m.\u001b[39m_adj[u]\u001b[38;5;241m.\u001b[39mget(v, \u001b[38;5;28mself\u001b[39m\u001b[38;5;241m.\u001b[39medge_attr_dict_factory())\n\u001b[0;32m   1036\u001b[0m datadict\u001b[38;5;241m.\u001b[39mupdate(attr)\n\u001b[0;32m   1037\u001b[0m datadict\u001b[38;5;241m.\u001b[39mupdate(dd)\n",
      "\u001b[1;31mKeyboardInterrupt\u001b[0m: "
     ]
    }
   ],
   "source": [
    "def num_to_remove_centrality(G, sorted_nodes):\n",
    "    G1 = G.copy()\n",
    "    count = 0\n",
    "    while nx.number_connected_components(G1) == 1:\n",
    "        G1.remove_node(sorted_nodes[count])\n",
    "        count += 1\n",
    "    return count\n",
    "\n",
    "for idx, subgraph in enumerate(comm_subgraphs):\n",
    "    \n",
    "    num_rem_BC = num_to_remove_centrality(subgraph, sorted([k for k in subgraph.nodes()], key=lambda x: betweenness_comms[idx][x], reverse=True))\n",
    "    num_rem_EC = num_to_remove_centrality(subgraph, sorted([k for k in subgraph.nodes()], key=lambda x: eigenvector_comms[idx][x], reverse=True))\n",
    "    num_rem_KC = num_to_remove_centrality(subgraph, sorted([k for k in subgraph.nodes()], key=lambda x: katz_comms[idx][x], reverse=True))"
   ]
  }
 ],
 "metadata": {
  "kernelspec": {
   "display_name": "venv",
   "language": "python",
   "name": "python3"
  },
  "language_info": {
   "codemirror_mode": {
    "name": "ipython",
    "version": 3
   },
   "file_extension": ".py",
   "mimetype": "text/x-python",
   "name": "python",
   "nbconvert_exporter": "python",
   "pygments_lexer": "ipython3",
   "version": "3.11.0"
  }
 },
 "nbformat": 4,
 "nbformat_minor": 2
}
