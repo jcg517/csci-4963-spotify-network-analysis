{
 "cells": [
  {
   "cell_type": "code",
   "execution_count": 22,
   "metadata": {},
   "outputs": [],
   "source": [
    "import networkx as nx\n",
    "import pandas as pd\n",
    "import numpy as np\n",
    "import matplotlib.pyplot as plt\n",
    "from pyvis.network import Network\n",
    "from tqdm import tqdm\n",
    "import pickle\n"
   ]
  },
  {
   "cell_type": "code",
   "execution_count": 3,
   "metadata": {},
   "outputs": [],
   "source": [
    "# Load in Graph and Artist Data\n",
    "with open(\"./saved_objects/main_graph.pkl\", \"rb\") as f:\n",
    "    G = pickle.load(f)\n",
    "with open(\"./saved_objects/artist_info.pkl\", \"rb\") as f:\n",
    "    artist_info = pickle.load(f)\n",
    "\n",
    " # Load previous community detection results   \n",
    "with open(\"./saved_objects/community_subgraphs.pkl\", \"rb\") as f:\n",
    "    comm_subgraphs = pickle.load(f)\n",
    "with open(\"./saved_objects/genres_by_community.pkl\", \"rb\") as f:\n",
    "    genres_by_comm= pickle.load(f)"
   ]
  },
  {
   "cell_type": "markdown",
   "metadata": {},
   "source": [
    "# 4. Centrality Analysis"
   ]
  },
  {
   "cell_type": "markdown",
   "metadata": {},
   "source": [
    "## _Global_"
   ]
  },
  {
   "cell_type": "code",
   "execution_count": 4,
   "metadata": {},
   "outputs": [],
   "source": [
    "\n",
    "degree_centrality = sorted(nx.degree_centrality(G), key=lambda x: x[1], reverse=True)\n",
    "eigenvector_centrality = sorted(nx.eigenvector_centrality(G), key=lambda x: x[1], reverse=True)\n",
    "pagerank_centrality = sorted(nx.pagerank(G, alpha=0.85), key=lambda x: x[1], reverse=True)\n",
    "\n",
    "# Too Slow!\n",
    "# closeness_centrality = nx.closeness_centrality(G)\n",
    "# betweenness_centrality = nx.betweenness_centrality(G)"
   ]
  },
  {
   "cell_type": "markdown",
   "metadata": {},
   "source": [
    "## _Local by subgraph_"
   ]
  },
  {
   "cell_type": "code",
   "execution_count": 17,
   "metadata": {},
   "outputs": [],
   "source": [
    "\n",
    "# # Note: this is only intra-community centrality \n",
    "# betweenness_comms = {idx: nx.betweenness_centrality(g) for idx, g in enumerate(comm_subgraphs)}\n",
    "# eigenvector_comms = {idx: nx.eigenvector_centrality_numpy(g) for idx, g in enumerate(comm_subgraphs)}\n",
    "# katz_comms = {idx: nx.katz_centrality_numpy(g) for idx, g in enumerate(comm_subgraphs)}\n",
    "\n",
    "# # Save\n",
    "# with open(\"./saved_objects/betweenness_by_comm.pkl\", \"wb\") as f:\n",
    "#     pickle.dump(betweenness_comms, f)\n",
    "# with open(\"./saved_objects/eigenvector_by_comm_by_comm.pkl\", \"wb\") as f:\n",
    "#     pickle.dump(eigenvector_comms, f)\n",
    "# with open(\"./saved_objects/katz_by_comm.pkl\", \"wb\") as f:\n",
    "#     pickle.dump(katz_comms, f)\n",
    "\n",
    "# Load\n",
    "with open(\"./saved_objects/betweenness_by_comm.pkl\", \"rb\") as f:\n",
    "    betweenness_comms = pickle.load(f)\n",
    "with open(\"./saved_objects/eigenvector_by_comm_by_comm.pkl\", \"rb\") as f:\n",
    "    eigenvector_comms = pickle.load(f)\n",
    "with open(\"./saved_objects/katz_by_comm.pkl\", \"rb\") as f:\n",
    "    katz_comms = pickle.load(f)\n"
   ]
  },
  {
   "cell_type": "code",
   "execution_count": 37,
   "metadata": {},
   "outputs": [],
   "source": [
    "# Creating our own composite centrality measure\n",
    "lambda_1, lambda_2, lambda_3 = 1.0, 1.0, 1.0\n",
    "\n",
    "total_centrality = {\n",
    "    idx: {\n",
    "        node: lambda_1 * betweenness_comms[idx][node]\n",
    "        + lambda_2 * eigenvector_comms[idx][node]\n",
    "        + lambda_3 * katz_comms[idx][node]\n",
    "        for node in g.nodes()\n",
    "    }\n",
    "    for idx, g in enumerate(comm_subgraphs)\n",
    "}"
   ]
  },
  {
   "cell_type": "markdown",
   "metadata": {},
   "source": [
    "Display Table of top artists by centrality measure and by community subgraph"
   ]
  },
  {
   "cell_type": "code",
   "execution_count": 67,
   "metadata": {},
   "outputs": [
    {
     "name": "stdout",
     "output_type": "stream",
     "text": [
      "               Artist    total_composite       Betweenness     Eigenvector               Katz\n",
      "0   Top 1 Community 0           DJ Drama            Tiësto      Gucci Mane             Netsky\n",
      "1   Top 2 Community 0          Lil Wayne             Diplo   Ty Dolla $ign   Sick Individuals\n",
      "2   Top 3 Community 0               T.I.        Steve Aoki       Lil Wayne           Claptone\n",
      "3   Top 4 Community 0           Yo Gotti      David Guetta  French Montana  Pharrell Williams\n",
      "4   Top 5 Community 0        Wiz Khalifa        Snoop Dogg          Future           Skrillex\n",
      "5   Top 6 Community 0         Young Thug             R3HAB        2 Chainz           Flo Rida\n",
      "6   Top 7 Community 0       Busta Rhymes  Armin van Buuren     Chris Brown            SLANDER\n",
      "7   Top 8 Community 0      Ty Dolla $ign        Gucci Mane       Rick Ross             Khalid\n",
      "8   Top 9 Community 0  Pharrell Williams     Ty Dolla $ign      Snoop Dogg               KYLE\n",
      "9  Top 10 Community 0        Chris Brown       Major Lazer      Young Thug           TELYKast\n",
      "\n",
      "              Artist total_composite         Betweenness   Eigenvector                 Katz\n",
      "0  Top 1 Community 1    De La Ghetto             Farruko       Farruko        Jamby El Favo\n",
      "1  Top 2 Community 1           Wisin          Juan Magán      Arcangel             Chucky73\n",
      "2  Top 3 Community 1         Farruko              Aleman  De La Ghetto                Wisin\n",
      "3  Top 4 Community 1   Jamby El Favo  Quimico Ultra Mega    Ñengo Flow             Chimbala\n",
      "4  Top 5 Community 1          Noriel             Gera MX   Myke Towers  Franco \"El Gorilla\"\n",
      "\n",
      "              Artist        total_composite            Betweenness            Eigenvector          Katz\n",
      "0  Top 1 Community 2  Johann Sebastian Bach  Johann Sebastian Bach  Johann Sebastian Bach  Depeche Mode\n",
      "1  Top 2 Community 2            Traditional            Traditional            Traditional       Il Divo\n",
      "2  Top 3 Community 2          John Williams          John Williams          John Williams  Dolly Parton\n",
      "3  Top 4 Community 2                Il Divo          Jean Sibelius          Jean Sibelius       TobyMac\n",
      "4  Top 5 Community 2           Depeche Mode         Andrea Bocelli             Aled Jones     Fazıl Say\n",
      "\n",
      "              Artist total_composite       Betweenness Eigenvector             Katz\n",
      "0  Top 1 Community 3           Mc Gw             Mc Gw       Mc Gw  Turma do Pagode\n",
      "1  Top 2 Community 3        Mc Delux            DENNIS       MC MN          Felp 22\n",
      "2  Top 3 Community 3           MC MN  MC Kevin o Chris       Mc Rd        mc jhenny\n",
      "3  Top 4 Community 3       Mc Dricka             Mc Rd    Mc Delux        Mc Dricka\n",
      "4  Top 5 Community 3           Mc Rd             MC MN  Mc Kitinho           Djonga\n",
      "\n",
      "              Artist     total_composite         Betweenness     Eigenvector                Katz\n",
      "0  Top 1 Community 4        Arijit Singh         A.R. Rahman          Pritam  Santhosh Narayanan\n",
      "1  Top 2 Community 4  Santhosh Narayanan              Pritam    Arijit Singh        Arijit Singh\n",
      "2  Top 3 Community 4              Pritam  Yuvan Shankar Raja     A.R. Rahman      Salim–Sulaiman\n",
      "3  Top 4 Community 4         A.R. Rahman      Shreya Ghoshal  Shreya Ghoshal           Javed Ali\n",
      "4  Top 5 Community 4   Shankar Mahadevan      Tanishk Bagchi      Mika Singh         Tulsi Kumar\n",
      "\n",
      "              Artist total_composite         Betweenness Eigenvector              Katz\n",
      "0  Top 1 Community 5       HEDEGAARD              Petter      Stress         HEDEGAARD\n",
      "1  Top 2 Community 5         Faustix           HEDEGAARD      Petter           Faustix\n",
      "2  Top 3 Community 5          Petter  Hver gang vi møtes      Dani M              Kato\n",
      "3  Top 4 Community 5          Stress              Madcon     Cherrie               USO\n",
      "4  Top 5 Community 5          Dani M             Faustix   Kartellen  TOOMANYLEFTHANDS\n",
      "\n"
     ]
    }
   ],
   "source": [
    "columns = ['Artist', 'total_composite', 'Betweenness', 'Eigenvector', 'Katz']\n",
    "rows = []\n",
    "\n",
    "pd.set_option('display.max_columns', None)\n",
    "pd.set_option('display.expand_frame_repr', False)\n",
    "\n",
    "# Function to get top 10 artists from a centrality dictionary\n",
    "def get_top_artists(centrality_dict, subgraph_id):\n",
    "    return sorted(centrality_dict[subgraph_id].items(), key=lambda x: x[1], reverse=True)[:10]\n",
    "\n",
    "# Loop through each community subgraph\n",
    "for subgraph_id in range(6):  # Assuming 0-5 are the community subgraphs\n",
    "    total_top = get_top_artists(total_centrality, subgraph_id)\n",
    "    betweenness_top = get_top_artists(betweenness_comms, subgraph_id)\n",
    "    eigenvector_top = get_top_artists(eigenvector_comms, subgraph_id)\n",
    "    katz_top = get_top_artists(katz_comms, subgraph_id)\n",
    "    \n",
    "    # Extract artist names and create rows for DataFrame\n",
    "    for idx in range(10) if subgraph_id == 0 else range(5):  # Assuming top 10\n",
    "        artist_total = artist_info[total_top[idx][0]][0]\n",
    "        artist_betweenness = artist_info[betweenness_top[idx][0]][0]\n",
    "        artist_eigenvector = artist_info[eigenvector_top[idx][0]][0]\n",
    "        artist_katz = artist_info[katz_top[idx][0]][0]\n",
    "        row = {\n",
    "            'Artist': f'Top {idx + 1} Community {subgraph_id}',\n",
    "            'total_composite': artist_total,\n",
    "            'Betweenness': artist_betweenness,\n",
    "            'Eigenvector': artist_eigenvector,\n",
    "            'Katz': artist_katz\n",
    "        }\n",
    "        rows.append(row)\n",
    "\n",
    "    # display dataframe\n",
    "    df = pd.DataFrame(rows, columns=columns)\n",
    "    print(df)\n",
    "    print()\n",
    "    rows.clear()\n"
   ]
  },
  {
   "cell_type": "markdown",
   "metadata": {},
   "source": [
    "Analyzing number of highest centrality nodes to remove inorder to disconnect the subgraph"
   ]
  },
  {
   "cell_type": "code",
   "execution_count": 73,
   "metadata": {},
   "outputs": [
    {
     "name": "stdout",
     "output_type": "stream",
     "text": [
      "Community num 0\n",
      "num to remove betweeness: 1, num to remove eigenvector: 1, num to remove katz: 1\n",
      "Community num 1\n",
      "num to remove betweeness: 1, num to remove eigenvector: 1, num to remove katz: 1\n",
      "Community num 2\n",
      "num to remove betweeness: 1, num to remove eigenvector: 1, num to remove katz: 1\n",
      "Community num 3\n",
      "num to remove betweeness: 1, num to remove eigenvector: 1, num to remove katz: 1\n",
      "Community num 4\n",
      "num to remove betweeness: 1, num to remove eigenvector: 1, num to remove katz: 1\n",
      "Community num 5\n",
      "num to remove betweeness: 1, num to remove eigenvector: 1, num to remove katz: 1\n",
      "Community num 6\n",
      "num to remove betweeness: 1, num to remove eigenvector: 1, num to remove katz: 1\n",
      "Community num 7\n",
      "num to remove betweeness: 1, num to remove eigenvector: 1, num to remove katz: 1\n",
      "Community num 8\n",
      "num to remove betweeness: 1, num to remove eigenvector: 1, num to remove katz: 1\n",
      "Community num 9\n",
      "num to remove betweeness: 1, num to remove eigenvector: 3, num to remove katz: 1\n",
      "Community num 10\n",
      "num to remove betweeness: 1, num to remove eigenvector: 1, num to remove katz: 1\n",
      "Community num 11\n",
      "num to remove betweeness: 1, num to remove eigenvector: 1, num to remove katz: 1\n",
      "Community num 12\n",
      "num to remove betweeness: 1, num to remove eigenvector: 1, num to remove katz: 1\n",
      "Community num 13\n",
      "num to remove betweeness: 1, num to remove eigenvector: 1, num to remove katz: 1\n",
      "Community num 14\n",
      "num to remove betweeness: 1, num to remove eigenvector: 1, num to remove katz: 1\n",
      "Community num 15\n",
      "num to remove betweeness: 1, num to remove eigenvector: 1, num to remove katz: 1\n",
      "Community num 16\n",
      "num to remove betweeness: 1, num to remove eigenvector: 1, num to remove katz: 1\n",
      "Community num 17\n",
      "num to remove betweeness: 1, num to remove eigenvector: 1, num to remove katz: 1\n",
      "Community num 18\n",
      "num to remove betweeness: 1, num to remove eigenvector: 1, num to remove katz: 2\n",
      "Community num 19\n",
      "num to remove betweeness: 0, num to remove eigenvector: 0, num to remove katz: 0\n",
      "Community num 20\n",
      "num to remove betweeness: 1, num to remove eigenvector: 1, num to remove katz: 1\n",
      "Community num 21\n",
      "num to remove betweeness: 1, num to remove eigenvector: 1, num to remove katz: 1\n",
      "Community num 22\n",
      "num to remove betweeness: 1, num to remove eigenvector: 1, num to remove katz: 1\n",
      "Community num 23\n",
      "num to remove betweeness: 1, num to remove eigenvector: 1, num to remove katz: 1\n",
      "Community num 24\n",
      "num to remove betweeness: 1, num to remove eigenvector: 1, num to remove katz: 1\n",
      "Community num 25\n",
      "num to remove betweeness: 1, num to remove eigenvector: 1, num to remove katz: 1\n",
      "Community num 26\n",
      "num to remove betweeness: 1, num to remove eigenvector: 1, num to remove katz: 1\n",
      "Community num 27\n",
      "num to remove betweeness: 0, num to remove eigenvector: 0, num to remove katz: 0\n",
      "Community num 28\n",
      "num to remove betweeness: 1, num to remove eigenvector: 1, num to remove katz: 1\n",
      "Community num 29\n",
      "num to remove betweeness: 1, num to remove eigenvector: 1, num to remove katz: 1\n",
      "Community num 30\n",
      "num to remove betweeness: 1, num to remove eigenvector: 1, num to remove katz: 1\n",
      "Community num 31\n",
      "num to remove betweeness: 1, num to remove eigenvector: 2, num to remove katz: 2\n",
      "Community num 32\n",
      "num to remove betweeness: 2, num to remove eigenvector: 1, num to remove katz: 1\n",
      "Community num 33\n",
      "num to remove betweeness: 1, num to remove eigenvector: 1, num to remove katz: 1\n",
      "Community num 34\n",
      "num to remove betweeness: 1, num to remove eigenvector: 1, num to remove katz: 1\n",
      "Community num 35\n",
      "num to remove betweeness: 1, num to remove eigenvector: 1, num to remove katz: 1\n",
      "Community num 36\n",
      "num to remove betweeness: 1, num to remove eigenvector: 1, num to remove katz: 1\n",
      "Community num 37\n",
      "num to remove betweeness: 1, num to remove eigenvector: 3, num to remove katz: 2\n"
     ]
    }
   ],
   "source": [
    "def num_to_remove_centrality(G, sorted_nodes):\n",
    "    G1 = G.copy()\n",
    "    count = 0\n",
    "    while nx.number_connected_components(G1) == 1:\n",
    "        G1.remove_node(sorted_nodes[count])\n",
    "        count += 1\n",
    "    return count\n",
    "\n",
    "for idx, subgraph in enumerate(comm_subgraphs):\n",
    "    print(\"Community num\", idx)\n",
    "    \n",
    "    num_rem_BC = num_to_remove_centrality(subgraph, sorted([k for k in subgraph.nodes()], key=lambda x: betweenness_comms[idx][x], reverse=True))\n",
    "    num_rem_EC = num_to_remove_centrality(subgraph, sorted([k for k in subgraph.nodes()], key=lambda x: eigenvector_comms[idx][x], reverse=True))\n",
    "    num_rem_KC = num_to_remove_centrality(subgraph, sorted([k for k in subgraph.nodes()], key=lambda x: katz_comms[idx][x], reverse=True))\n",
    "\n",
    "    print(f'num to remove betweeness: {num_rem_BC}, num to remove eigenvector: {num_rem_EC}, num to remove katz: {num_rem_KC}')\n",
    "\n",
    "# Most number are one, shows that high centrality nodes highly likely to connect with leaf nodes. \n",
    "# Maybe this tendency is why they are highly central in the first place. "
   ]
  },
  {
   "cell_type": "markdown",
   "metadata": {},
   "source": [
    "## _Analyze Weak Tie Edges_"
   ]
  }
 ],
 "metadata": {
  "kernelspec": {
   "display_name": "venv",
   "language": "python",
   "name": "python3"
  },
  "language_info": {
   "codemirror_mode": {
    "name": "ipython",
    "version": 3
   },
   "file_extension": ".py",
   "mimetype": "text/x-python",
   "name": "python",
   "nbconvert_exporter": "python",
   "pygments_lexer": "ipython3",
   "version": "3.11.0"
  }
 },
 "nbformat": 4,
 "nbformat_minor": 2
}
